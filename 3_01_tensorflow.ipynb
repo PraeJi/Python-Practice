{
  "nbformat": 4,
  "nbformat_minor": 0,
  "metadata": {
    "colab": {
      "provenance": [],
      "toc_visible": true,
      "authorship_tag": "ABX9TyOksrsGs4X3eKxzoeXbvl1O",
      "include_colab_link": true
    },
    "kernelspec": {
      "name": "python3",
      "display_name": "Python 3"
    },
    "language_info": {
      "name": "python"
    }
  },
  "cells": [
    {
      "cell_type": "markdown",
      "metadata": {
        "id": "view-in-github",
        "colab_type": "text"
      },
      "source": [
        "<a href=\"https://colab.research.google.com/github/PraeJi/Python-Practice/blob/master/3_01_tensorflow.ipynb\" target=\"_parent\"><img src=\"https://colab.research.google.com/assets/colab-badge.svg\" alt=\"Open In Colab\"/></a>"
      ]
    },
    {
      "cell_type": "markdown",
      "source": [
        "# Tensorflow Basic"
      ],
      "metadata": {
        "id": "scy9JR6mnXg6"
      }
    },
    {
      "cell_type": "code",
      "execution_count": null,
      "metadata": {
        "id": "e8IObpjcnHPU"
      },
      "outputs": [],
      "source": [
        "import tensorflow as tf\n",
        "import numpy as np"
      ]
    },
    {
      "cell_type": "markdown",
      "source": [
        "## Creating a tensor"
      ],
      "metadata": {
        "id": "e4PEM8C-n7BW"
      }
    },
    {
      "cell_type": "code",
      "source": [
        "x = tf.constant([[1.,3.,0.],\n",
        "                 [0.,1.,2.],\n",
        "                 [1.,0.,1.]]) # a nested list\n",
        "x"
      ],
      "metadata": {
        "colab": {
          "base_uri": "https://localhost:8080/"
        },
        "id": "lXwg4Rdqn54C",
        "outputId": "e7cc5bef-295b-483d-ab5e-ddcd266233c9"
      },
      "execution_count": null,
      "outputs": [
        {
          "output_type": "execute_result",
          "data": {
            "text/plain": [
              "<tf.Tensor: shape=(3, 3), dtype=float32, numpy=\n",
              "array([[1., 3., 0.],\n",
              "       [0., 1., 2.],\n",
              "       [1., 0., 1.]], dtype=float32)>"
            ]
          },
          "metadata": {},
          "execution_count": 2
        }
      ]
    },
    {
      "cell_type": "markdown",
      "source": [
        "## Conducting mathematical operations"
      ],
      "metadata": {
        "id": "lMUip72KpABu"
      }
    },
    {
      "cell_type": "code",
      "source": [
        "print(x + x)\n",
        "print(5 * x)"
      ],
      "metadata": {
        "colab": {
          "base_uri": "https://localhost:8080/"
        },
        "id": "DxvXPDeIoaT3",
        "outputId": "fcaf812c-291c-4e97-82c0-2d2acb22b8fb"
      },
      "execution_count": null,
      "outputs": [
        {
          "output_type": "stream",
          "name": "stdout",
          "text": [
            "tf.Tensor(\n",
            "[[2. 6. 0.]\n",
            " [0. 2. 4.]\n",
            " [2. 0. 2.]], shape=(3, 3), dtype=float32)\n",
            "tf.Tensor(\n",
            "[[ 5. 15.  0.]\n",
            " [ 0.  5. 10.]\n",
            " [ 5.  0.  5.]], shape=(3, 3), dtype=float32)\n"
          ]
        }
      ]
    },
    {
      "cell_type": "code",
      "source": [
        "print(x @ tf.transpose(x)) # @ represent matrix multiplication ==> x(xt)"
      ],
      "metadata": {
        "colab": {
          "base_uri": "https://localhost:8080/"
        },
        "id": "Xca-VQmMpM89",
        "outputId": "84fe9392-9e52-4b63-e092-be3dce83528f"
      },
      "execution_count": null,
      "outputs": [
        {
          "output_type": "stream",
          "name": "stdout",
          "text": [
            "tf.Tensor(\n",
            "[[10.  3.  1.]\n",
            " [ 3.  5.  2.]\n",
            " [ 1.  2.  2.]], shape=(3, 3), dtype=float32)\n"
          ]
        }
      ]
    },
    {
      "cell_type": "code",
      "source": [
        "print(tf.concat([x,x,x], axis=0)) # 0 mean row\n",
        "print(tf.concat([x,x,x], axis=1)) # 1 mean column"
      ],
      "metadata": {
        "colab": {
          "base_uri": "https://localhost:8080/"
        },
        "id": "e44Fun2zpwMJ",
        "outputId": "a46e0a86-20ae-446e-bfa0-6592a6a23318"
      },
      "execution_count": null,
      "outputs": [
        {
          "output_type": "stream",
          "name": "stdout",
          "text": [
            "tf.Tensor(\n",
            "[[1. 3. 0.]\n",
            " [0. 1. 2.]\n",
            " [1. 0. 1.]\n",
            " [1. 3. 0.]\n",
            " [0. 1. 2.]\n",
            " [1. 0. 1.]\n",
            " [1. 3. 0.]\n",
            " [0. 1. 2.]\n",
            " [1. 0. 1.]], shape=(9, 3), dtype=float32)\n",
            "tf.Tensor(\n",
            "[[1. 3. 0. 1. 3. 0. 1. 3. 0.]\n",
            " [0. 1. 2. 0. 1. 2. 0. 1. 2.]\n",
            " [1. 0. 1. 1. 0. 1. 1. 0. 1.]], shape=(3, 9), dtype=float32)\n"
          ]
        }
      ]
    },
    {
      "cell_type": "code",
      "source": [
        "print(tf.reduce_sum(x)) # sum all\n",
        "print(tf.reduce_sum(x, axis=0)) # sum follow by row\n",
        "print(tf.reduce_sum(x, axis=1)) # sum follow by column"
      ],
      "metadata": {
        "colab": {
          "base_uri": "https://localhost:8080/"
        },
        "id": "LkTAqGHrqCvU",
        "outputId": "af9fe5b5-4bb4-4f06-cf77-18ae1a6b064d"
      },
      "execution_count": null,
      "outputs": [
        {
          "output_type": "stream",
          "name": "stdout",
          "text": [
            "tf.Tensor(9.0, shape=(), dtype=float32)\n",
            "tf.Tensor([2. 4. 3.], shape=(3,), dtype=float32)\n",
            "tf.Tensor([4. 3. 2.], shape=(3,), dtype=float32)\n"
          ]
        }
      ]
    },
    {
      "cell_type": "code",
      "source": [
        "# softmax function\n",
        "print(tf.nn.softmax(x, axis=-1)) # -1 mean claculate softmax in the last dimention"
      ],
      "metadata": {
        "colab": {
          "base_uri": "https://localhost:8080/"
        },
        "id": "3JIW1UlEq5-Q",
        "outputId": "bd7723a6-bbe6-410d-c7d4-664dde36e418"
      },
      "execution_count": null,
      "outputs": [
        {
          "output_type": "stream",
          "name": "stdout",
          "text": [
            "tf.Tensor(\n",
            "[[0.11419519 0.8437947  0.04201007]\n",
            " [0.09003057 0.24472848 0.66524094]\n",
            " [0.42231882 0.15536241 0.42231882]], shape=(3, 3), dtype=float32)\n"
          ]
        }
      ]
    },
    {
      "cell_type": "markdown",
      "source": [
        "## Variables"
      ],
      "metadata": {
        "id": "ptuiACwar__b"
      }
    },
    {
      "cell_type": "code",
      "source": [
        "w = tf.Variable([0.1, 0.0, 0.1])\n",
        "w.assign([1.0,0.1,1.2]) # replace all values\n",
        "w.assign_add([0.1,0.1,0.1]) # +="
      ],
      "metadata": {
        "colab": {
          "base_uri": "https://localhost:8080/"
        },
        "id": "mt1H1bfzrmzh",
        "outputId": "220b831a-0036-4aac-9bab-0174faefb63d"
      },
      "execution_count": null,
      "outputs": [
        {
          "output_type": "execute_result",
          "data": {
            "text/plain": [
              "<tf.Variable 'UnreadVariable' shape=(3,) dtype=float32, numpy=array([1.1      , 0.2      , 1.3000001], dtype=float32)>"
            ]
          },
          "metadata": {},
          "execution_count": 10
        }
      ]
    },
    {
      "cell_type": "markdown",
      "source": [
        "# Automatic Differentation"
      ],
      "metadata": {
        "id": "brYs6RhcuGeF"
      }
    },
    {
      "cell_type": "code",
      "source": [
        "w = tf.Variable(1.5)\n",
        "b = tf.Variable(1.0)\n",
        "x = tf.Variable(2.0)"
      ],
      "metadata": {
        "id": "SkwezGgvsbej"
      },
      "execution_count": null,
      "outputs": []
    },
    {
      "cell_type": "code",
      "source": [
        "with tf.GradientTape() as tape:\n",
        "  z = tf.nn.sigmoid(w*x + b)\n",
        "tf.print(z)\n",
        "\n",
        "z_ = tape.gradient(z, [w,b])\n",
        "\n",
        "tf.print(z_)\n",
        "\n",
        "# output ==> [dz/dw, dz/db]"
      ],
      "metadata": {
        "colab": {
          "base_uri": "https://localhost:8080/"
        },
        "id": "waew6Hxcuc6C",
        "outputId": "73f4b12f-4cba-4486-8760-23930ef5a532"
      },
      "execution_count": null,
      "outputs": [
        {
          "output_type": "stream",
          "name": "stdout",
          "text": [
            "0.982013762\n",
            "[0.0353254676, 0.0176627338]\n"
          ]
        }
      ]
    },
    {
      "cell_type": "code",
      "source": [],
      "metadata": {
        "id": "fjDQZysyu5qD"
      },
      "execution_count": null,
      "outputs": []
    }
  ]
}