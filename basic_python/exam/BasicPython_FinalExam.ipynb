{
  "nbformat": 4,
  "nbformat_minor": 0,
  "metadata": {
    "colab": {
      "provenance": [],
      "authorship_tag": "ABX9TyMBK11/Xh6Xe2Rsv41MzlrS",
      "include_colab_link": true
    },
    "kernelspec": {
      "name": "python3",
      "display_name": "Python 3"
    },
    "language_info": {
      "name": "python"
    }
  },
  "cells": [
    {
      "cell_type": "markdown",
      "metadata": {
        "id": "view-in-github",
        "colab_type": "text"
      },
      "source": [
        "<a href=\"https://colab.research.google.com/github/PraeJi/Python-Practice/blob/master/BasicPython_FinalExam.ipynb\" target=\"_parent\"><img src=\"https://colab.research.google.com/assets/colab-badge.svg\" alt=\"Open In Colab\"/></a>"
      ]
    },
    {
      "cell_type": "markdown",
      "source": [
        "# Q1"
      ],
      "metadata": {
        "id": "havNG9C7sBg4"
      }
    },
    {
      "cell_type": "markdown",
      "source": [
        "draw polygons"
      ],
      "metadata": {
        "id": "hEtWIEzQMY_9"
      }
    },
    {
      "cell_type": "code",
      "source": [
        "import numpy as np\n",
        "import matplotlib.pyplot as plt\n",
        "import math"
      ],
      "metadata": {
        "id": "A6kpIww3dzZc"
      },
      "execution_count": null,
      "outputs": []
    },
    {
      "cell_type": "code",
      "execution_count": null,
      "metadata": {
        "colab": {
          "base_uri": "https://localhost:8080/"
        },
        "id": "JiR6YlT9XQyf",
        "outputId": "b648f5cc-ea78-40d8-f01a-ee683ab4637d"
      },
      "outputs": [
        {
          "name": "stdout",
          "output_type": "stream",
          "text": [
            "n (Number of pairs): 5\n"
          ]
        }
      ],
      "source": [
        "n = int(input(\"n (Number of pairs): \"))"
      ]
    },
    {
      "cell_type": "code",
      "source": [
        "points = []\n",
        "for i in range(n):\n",
        "  x,y = input(f\"n={i+1}| (x,y) = \").split()\n",
        "  x,y = int(x),int(y)\n",
        "  points.append((x,y))"
      ],
      "metadata": {
        "colab": {
          "base_uri": "https://localhost:8080/"
        },
        "id": "nk1V1gw2cHk1",
        "outputId": "f78c3a09-3863-4529-b67b-7b1ef7677c84"
      },
      "execution_count": null,
      "outputs": [
        {
          "name": "stdout",
          "output_type": "stream",
          "text": [
            "n=1| (x,y) = 1 2\n",
            "n=2| (x,y) = 8 9\n",
            "n=3| (x,y) = 9 0\n",
            "n=4| (x,y) = 3 3\n",
            "n=5| (x,y) = 2 7\n"
          ]
        }
      ]
    },
    {
      "cell_type": "code",
      "source": [
        "centroid_x = sum(p[0] for p in points) / len(points)\n",
        "centroid_y = sum(p[1] for p in points) / len(points)"
      ],
      "metadata": {
        "id": "Yh6LfCqbtpYE"
      },
      "execution_count": null,
      "outputs": []
    },
    {
      "source": [
        "points.sort(key=lambda p: math.atan2(p[1] - centroid_y, p[0] - centroid_x))"
      ],
      "cell_type": "code",
      "metadata": {
        "id": "wAZ8PAPSwgWo"
      },
      "execution_count": null,
      "outputs": []
    },
    {
      "cell_type": "code",
      "source": [
        "points.append(points[0])"
      ],
      "metadata": {
        "id": "QhVbojhmxihE"
      },
      "execution_count": null,
      "outputs": []
    },
    {
      "cell_type": "code",
      "source": [
        "X,Y = zip(*points)"
      ],
      "metadata": {
        "id": "EwGiQE6pgpXz"
      },
      "execution_count": null,
      "outputs": []
    },
    {
      "cell_type": "code",
      "source": [
        "X_plot = np.array(list(X))\n",
        "Y_plot = np.array(list(Y))"
      ],
      "metadata": {
        "id": "fIaRpZmFduTy"
      },
      "execution_count": null,
      "outputs": []
    },
    {
      "cell_type": "code",
      "source": [
        "plt.plot(X_plot,Y_plot)\n",
        "plt.show()"
      ],
      "metadata": {
        "colab": {
          "base_uri": "https://localhost:8080/",
          "height": 430
        },
        "id": "4gI5lbJId8lD",
        "outputId": "db669354-c1e2-46a6-8392-6a312cc3d0f4"
      },
      "execution_count": null,
      "outputs": [
        {
          "output_type": "display_data",
          "data": {
            "text/plain": [
              "<Figure size 640x480 with 1 Axes>"
            ],
            "image/png": "[encoded data removed]"
          },
          "metadata": {}
        }
      ]
    },
    {
      "cell_type": "markdown",
      "source": [
        "# Q2"
      ],
      "metadata": {
        "id": "_JrEhAzCsEGm"
      }
    },
    {
      "cell_type": "markdown",
      "source": [
        "input number and stop input when \"DONE\" then calculate mean, mode and median"
      ],
      "metadata": {
        "id": "rMnGwpacMDPb"
      }
    },
    {
      "cell_type": "code",
      "source": [
        "import statistics"
      ],
      "metadata": {
        "id": "YXZ35OLdsFUu"
      },
      "execution_count": null,
      "outputs": []
    },
    {
      "cell_type": "code",
      "source": [
        "values = []\n",
        "while(True):\n",
        "  x = input()\n",
        "  if x == \"DONE\":\n",
        "    break\n",
        "  else:\n",
        "    values.append(int(x))"
      ],
      "metadata": {
        "colab": {
          "base_uri": "https://localhost:8080/"
        },
        "id": "ZSanF9HotMWD",
        "outputId": "9fa7f48a-4824-44c7-8a56-76e2e64d2456"
      },
      "execution_count": null,
      "outputs": [
        {
          "name": "stdout",
          "output_type": "stream",
          "text": [
            "1\n",
            "2\n",
            "4\n",
            "4\n",
            "5\n",
            "6\n",
            "8\n",
            "9\n",
            "10\n",
            "DONE\n"
          ]
        }
      ]
    },
    {
      "cell_type": "code",
      "source": [
        "mean_values = statistics.mean(values)\n",
        "mode_values = statistics.mode(values)\n",
        "median_values = statistics.median(values)\n",
        "print(f\"Mean = {mean_values:.2f}\")\n",
        "print(f\"Mode = {mode_values:.2f}\")\n",
        "print(f\"Median = {median_values:.2f}\")"
      ],
      "metadata": {
        "colab": {
          "base_uri": "https://localhost:8080/"
        },
        "id": "lY5AytOotOqC",
        "outputId": "e2f488b7-8326-484a-c787-44af26132681"
      },
      "execution_count": null,
      "outputs": [
        {
          "output_type": "stream",
          "name": "stdout",
          "text": [
            "Mean = 5.44\n",
            "Mode = 4.00\n",
            "Median = 5.00\n"
          ]
        }
      ]
    },
    {
      "cell_type": "markdown",
      "source": [
        "# Q3"
      ],
      "metadata": {
        "id": "pSqmut66sGIX"
      }
    },
    {
      "cell_type": "markdown",
      "source": [
        "calculate GPA"
      ],
      "metadata": {
        "id": "yYTCFu29L4nZ"
      }
    },
    {
      "cell_type": "code",
      "source": [
        "def calculateGPAs(G, c):\n",
        "    grade_points = {\n",
        "        'A': 4.00, 'A-': 3.67, 'B+': 3.33, 'B': 3.00, 'B-': 2.67,\n",
        "        'C+': 2.33, 'C': 2.00, 'D': 1.00, 'F': 0.00\n",
        "    }\n",
        "\n",
        "    GPAs = []\n",
        "    total_credits = 0\n",
        "\n",
        "    for credit in c:\n",
        "        total_credits += credit\n",
        "\n",
        "    for grades in G:\n",
        "        if len(grades) != len(c):\n",
        "            GPAs.append(-1)\n",
        "            continue\n",
        "\n",
        "        total_points = 0\n",
        "        for credit, grade in zip(c, grades):\n",
        "            if grade not in grade_points:\n",
        "                GPAs.append(-1)\n",
        "                total_points = 0\n",
        "                break\n",
        "            else:\n",
        "              total_points += grade_points[grade] * credit\n",
        "\n",
        "        if total_points == 0:\n",
        "            continue\n",
        "        else:\n",
        "          GPA = total_points / total_credits\n",
        "          GPAs.append(GPA)\n",
        "\n",
        "    return GPAs\n",
        "\n",
        "G1 = [['A', 'A', 'A'], ['A', 'A-', 'A']]\n",
        "c1 = [3, 2, 3]\n",
        "\n",
        "G2 = [['A', 'B+', 'C','A'], ['A', 'C-', 'B','A'], ['B-', 'C+', 'A','F']]\n",
        "c2 = [3, 3, 3, 3]\n",
        "\n",
        "print(calculateGPAs(G1, c1))\n",
        "print(calculateGPAs(G2, c2))"
      ],
      "metadata": {
        "colab": {
          "base_uri": "https://localhost:8080/"
        },
        "id": "nsgrvf2utIOW",
        "outputId": "2ab5e022-fc8a-409a-b9e4-7ecad47dd4df"
      },
      "execution_count": null,
      "outputs": [
        {
          "output_type": "stream",
          "name": "stdout",
          "text": [
            "[4.0, 3.9175]\n",
            "[3.3325, -1, 2.25]\n"
          ]
        }
      ]
    }
  ]
}
